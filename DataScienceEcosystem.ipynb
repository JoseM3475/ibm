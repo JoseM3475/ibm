{
 "cells": [
  {
   "cell_type": "markdown",
   "id": "0f6a5bc2-d09a-470a-b647-3092d4d0ce7f",
   "metadata": {},
   "source": [
    "# Data Science Tools and Ecosystem"
   ]
  },
  {
   "cell_type": "markdown",
   "id": "782251dc-e5b7-4f78-9c0b-ba4b9c83b643",
   "metadata": {},
   "source": [
    "## Author\n",
    "José María Mercado Barranco"
   ]
  },
  {
   "cell_type": "markdown",
   "id": "41978291-e8ad-4ba8-be94-ec7582b78366",
   "metadata": {},
   "source": [
    "In this notebook, Data Science Tools and Ecosystem are summarized."
   ]
  },
  {
   "cell_type": "markdown",
   "id": "5fb3d2e8-6b00-42e0-9609-d35a2312d44f",
   "metadata": {},
   "source": [
    "**Objectives:**\n",
    "* Popular languages that Data Scientists.\n",
    "* Commonly used libraries used by Data Scientists.\n",
    "* Examples of evaluating arithmetic expressions in Python.\n"
   ]
  },
  {
   "cell_type": "markdown",
   "id": "cb8934e6-a8f0-442b-8112-9d17f600a7dd",
   "metadata": {},
   "source": [
    "Some of the popular languages that Data Scientists use are:\n",
    "\n",
    "1. Python.\n",
    "2. R.\n",
    "3. SQL.\n",
    "   "
   ]
  },
  {
   "cell_type": "markdown",
   "id": "c7d5be87-2d2f-45c3-8125-0d1ae3b6c3cc",
   "metadata": {},
   "source": [
    "Some of the commonly used libraries used by Data Scientists include:\n",
    "\n",
    "1. Numpy\n",
    "2. Pandas\n",
    "3. Matplotlin\n",
    "4. Seborn\n",
    "5. Scikit-learn"
   ]
  },
  {
   "cell_type": "markdown",
   "id": "46a116e6-c4c3-46bc-8f63-e6e1d335f448",
   "metadata": {},
   "source": [
    "|Data Science Tools|\n",
    "|---|\n",
    "|Jupyter Notebooks|\n",
    "|RStudio|\n",
    "|Visual Studio Code|"
   ]
  },
  {
   "cell_type": "markdown",
   "id": "c623da38-9d3a-4ab8-a580-71c7a741efb9",
   "metadata": {},
   "source": [
    "### Below are a few examples of evaluating arithmetic expressions in Python"
   ]
  },
  {
   "cell_type": "code",
   "execution_count": 1,
   "id": "9f81ddbf-29b6-4745-af2a-a7736e90a93b",
   "metadata": {},
   "outputs": [
    {
     "data": {
      "text/plain": [
       "17"
      ]
     },
     "execution_count": 1,
     "metadata": {},
     "output_type": "execute_result"
    }
   ],
   "source": [
    "#  This a simple arithmetic expression to mutiply then add integers\n",
    "(3*4)+5\n"
   ]
  },
  {
   "cell_type": "code",
   "execution_count": 2,
   "id": "43f69563-4f86-407c-8091-8f971f5b9919",
   "metadata": {},
   "outputs": [
    {
     "data": {
      "text/plain": [
       "3.3333333333333335"
      ]
     },
     "execution_count": 2,
     "metadata": {},
     "output_type": "execute_result"
    }
   ],
   "source": [
    "# This will convert 200 minutes to hours by diving by 60\n",
    "200/60"
   ]
  },
  {
   "cell_type": "code",
   "execution_count": null,
   "id": "4f4000d3-e5b4-4bdb-8d5d-0a95fcf8b697",
   "metadata": {},
   "outputs": [],
   "source": []
  }
 ],
 "metadata": {
  "kernelspec": {
   "display_name": "Python 3 (ipykernel)",
   "language": "python",
   "name": "python3"
  },
  "language_info": {
   "codemirror_mode": {
    "name": "ipython",
    "version": 3
   },
   "file_extension": ".py",
   "mimetype": "text/x-python",
   "name": "python",
   "nbconvert_exporter": "python",
   "pygments_lexer": "ipython3",
   "version": "3.11.4"
  }
 },
 "nbformat": 4,
 "nbformat_minor": 5
}
